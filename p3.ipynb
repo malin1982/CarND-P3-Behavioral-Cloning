{
 "cells": [
  {
   "cell_type": "code",
   "execution_count": null,
   "metadata": {
    "collapsed": false
   },
   "outputs": [],
   "source": [
    "import numpy as np\n",
    "from sklearn.model_selection import train_test_split\n",
    "import math\n",
    "from keras.models import Sequential\n",
    "from keras.layers import Dense, Input, Activation\n",
    "from keras.layers import Conv2D, Flatten, MaxPooling2D, Dropout\n",
    "from keras.layers import Lambda, ELU\n",
    "\n",
    "#from keras.utils import np_utils\n",
    "\n",
    "#Y_train = np_utils.to_categorical(y_train, 43)\n",
    "#Y_val = np_utils.to_categorical(y_val, 43)\n",
    "\n",
    "\n",
    "# input image dimensions\n",
    "img_rows, img_cols = 80, 160\n",
    "\n",
    "# number of convolutional filters to use\n",
    "nb_filters = 24\n",
    "\n",
    "# convolution kernel size\n",
    "nb_conv = 5\n",
    "\n",
    "input_shape=(img_rows, img_cols, 3)\n",
    "\n",
    "model = Sequential()\n",
    "model.add(Lambda(lambda x: x/255 - 0.5, input_shape = input_shape ))\n",
    "model.add(Conv2D(nb_filters, nb_conv, nb_conv, border_mode='valid', subsample=(2, 2), init='he_normal'))\n",
    "model.add(ELU())\n",
    "model.add(Conv2D(36,5,5, border_mode='valid', init='he_normal', subsample=(2, 2)))\n",
    "model.add(ELU())\n",
    "model.add(Conv2D(48,5,5, border_mode='valid', init='he_normal', subsample=(2, 2)))\n",
    "model.add(ELU())\n",
    "model.add(Conv2D(64,3,3, border_mode='valid', init='he_normal'))\n",
    "model.add(ELU())\n",
    "model.add(Conv2D(64,3,3, border_mode='valid', init='he_normal'))\n",
    "model.add(ELU())\n",
    "model.add(Flatten())\n",
    "model.add(Dense(1164, init='he_normal'))\n",
    "model.add(ELU())\n",
    "model.add(Dense(100, init='he_normal'))\n",
    "model.add(ELU())\n",
    "model.add(Dense(50, init='he_normal'))\n",
    "model.add(ELU())\n",
    "model.add(Dense(10, init='he_normal'))\n",
    "model.add(ELU())\n",
    "model.add(Dense(1, init='he_normal'))\n",
    "model.summary()\n"
   ]
  },
  {
   "cell_type": "code",
   "execution_count": null,
   "metadata": {
    "collapsed": false
   },
   "outputs": [],
   "source": [
    "#regular training w/o keras fit generator\n",
    "\n",
    "X_train = np.load(\"sample/data/X.npy\")\n",
    "y_train = np.load(\"sample/data/y.npy\")\n",
    "X_train = X_train.astype('float32')\n",
    "y_train = y_train.astype('float32')\n",
    "print(X_train.shape)\n",
    "print(y_train.shape)\n",
    "\n",
    "# TODO: Compile and train the model here.\n",
    "model.compile(loss='mse',\n",
    "              optimizer='sgd',\n",
    "              metrics=['accuracy'])\n",
    "history = model.fit(X_train, y_train,\n",
    "                    batch_size=128, nb_epoch=2,\n",
    "                    verbose=1, validation_data=None)\n",
    "\n",
    "model.save_weights('model.h5')\n",
    "\n",
    "# serialize model to JSON\n",
    "model_json = model.to_json()\n",
    "with open(\"model.json\", \"w\") as json_file:\n",
    "    json_file.write(model_json)"
   ]
  },
  {
   "cell_type": "code",
   "execution_count": null,
   "metadata": {
    "collapsed": false
   },
   "outputs": [],
   "source": [
    "c_image_files = np.genfromtxt('sample/data.csv', delimiter=',', dtype=str, usecols=(0,))\n",
    "l_image_files = np.genfromtxt('sample/data.csv', delimiter=',', dtype=str, usecols=(1,))\n",
    "r_image_files = np.genfromtxt('sample/data.csv', delimiter=',', dtype=str, usecols=(2,))\n"
   ]
  },
  {
   "cell_type": "code",
   "execution_count": null,
   "metadata": {
    "collapsed": false,
    "scrolled": true
   },
   "outputs": [],
   "source": [
    "print(type(r_image_files))"
   ]
  },
  {
   "cell_type": "code",
   "execution_count": null,
   "metadata": {
    "collapsed": false
   },
   "outputs": [],
   "source": [
    "print(r_image_files.shape)"
   ]
  },
  {
   "cell_type": "code",
   "execution_count": null,
   "metadata": {
    "collapsed": false
   },
   "outputs": [],
   "source": [
    "joystick_values = np.genfromtxt('sample/data.csv', delimiter=',', usecols=(3,))"
   ]
  },
  {
   "cell_type": "code",
   "execution_count": null,
   "metadata": {
    "collapsed": false
   },
   "outputs": [],
   "source": [
    "print(joystick_values[2312])"
   ]
  },
  {
   "cell_type": "code",
   "execution_count": null,
   "metadata": {
    "collapsed": false
   },
   "outputs": [],
   "source": [
    "from cv2 import imread\n",
    "import matplotlib.pyplot as plt\n",
    "import matplotlib.image as mpimg\n",
    "\n",
    "c_image = mpimg.imread('sample/'+c_image_files[2312])\n",
    "imgplot = plt.imshow(c_image)\n",
    "plt.show()"
   ]
  },
  {
   "cell_type": "code",
   "execution_count": null,
   "metadata": {
    "collapsed": false
   },
   "outputs": [],
   "source": [
    "r_image = mpimg.imread('sample/'+r_image_files[2312].strip())\n",
    "imgplot = plt.imshow(r_image)\n",
    "plt.show()"
   ]
  },
  {
   "cell_type": "code",
   "execution_count": null,
   "metadata": {
    "collapsed": false
   },
   "outputs": [],
   "source": [
    "l_image = mpimg.imread('sample/'+l_image_files[2312].strip())\n",
    "imgplot = plt.imshow(l_image)\n",
    "plt.show()"
   ]
  },
  {
   "cell_type": "code",
   "execution_count": null,
   "metadata": {
    "collapsed": false
   },
   "outputs": [],
   "source": [
    "import pandas as pd\n",
    "data_files_s = pd.read_csv('driving_log.csv', delimiter=',', dtype=None, usecols = (0,1,2,3))\n",
    "i_line = np.random.randint(len(data_files_s))\n",
    "print(i_line)\n",
    "line_data = data_files_s.iloc[[i_line]].reset_index()\n",
    "print(line_data)\n",
    "path_file = line_data['left'][0].strip()\n",
    "print(path_file)\n",
    "x,y = preprocess_image_file_train(line_data)"
   ]
  },
  {
   "cell_type": "code",
   "execution_count": null,
   "metadata": {
    "collapsed": false,
    "scrolled": true
   },
   "outputs": [],
   "source": [
    "#when using np.genfromtxt convert byte to string\n",
    "#path_file = line_data['left'][0].strip().decode(\"utf-8\")\n",
    "path_file = line_data['left'][0].strip()\n",
    "steer = line_data['steer'][0]"
   ]
  },
  {
   "cell_type": "code",
   "execution_count": null,
   "metadata": {
    "collapsed": false
   },
   "outputs": [],
   "source": [
    "import cv2\n",
    "image = cv2.imread(path_file)\n",
    "image = cv2.cvtColor(image,cv2.COLOR_BGR2RGB)"
   ]
  },
  {
   "cell_type": "code",
   "execution_count": null,
   "metadata": {
    "collapsed": false
   },
   "outputs": [],
   "source": [
    "import matplotlib.pyplot as plt\n",
    "import matplotlib.image as mpimg\n",
    "imgplot = plt.imshow(image)\n",
    "plt.show()"
   ]
  },
  {
   "cell_type": "code",
   "execution_count": null,
   "metadata": {
    "collapsed": false
   },
   "outputs": [],
   "source": [
    "print(image.shape[:2])"
   ]
  },
  {
   "cell_type": "code",
   "execution_count": null,
   "metadata": {
    "collapsed": true
   },
   "outputs": [],
   "source": [
    "def trans_image(image):\n",
    "    # Translation\n",
    "    rows, cols = image.shape[:2]\n",
    "    #tr_x = trans_range*np.random.uniform()-trans_range/2\n",
    "    tr_x = 0\n",
    "    tr_y = 40*np.random.uniform()-40/2\n",
    "    #tr_y = 0\n",
    "    Trans_M = np.float32([[1,0,tr_x],[0,1,tr_y]])\n",
    "    image_tr = cv2.warpAffine(image,Trans_M,(cols,rows))\n",
    "    \n",
    "    return image_tr"
   ]
  },
  {
   "cell_type": "code",
   "execution_count": null,
   "metadata": {
    "collapsed": true
   },
   "outputs": [],
   "source": [
    "def reshape_image(image):\n",
    "    shape = image.shape\n",
    "    # note: numpy arrays are (row, col)!\n",
    "    image = image[math.floor(shape[0]/4)+30:shape[0]-25, 0:shape[1]]\n",
    "    return image"
   ]
  },
  {
   "cell_type": "code",
   "execution_count": null,
   "metadata": {
    "collapsed": false
   },
   "outputs": [],
   "source": [
    "trans_image1 = trans_image(image)\n",
    "trans_image2 = trans_image(image)\n",
    "trans_image3 = trans_image(image)\n",
    "trans_image4 = trans_image(image)\n",
    "\n",
    "trans_image1 = reshape_image(trans_image1)\n",
    "trans_image2 = reshape_image(trans_image2)\n",
    "trans_image3 = reshape_image(trans_image3)\n",
    "trans_image4 = reshape_image(trans_image4)"
   ]
  },
  {
   "cell_type": "code",
   "execution_count": null,
   "metadata": {
    "collapsed": false
   },
   "outputs": [],
   "source": [
    "print(trans_image1.shape)\n",
    "\n",
    "trans_image1 = cv2.resize(trans_image1, (160, 80))\n",
    "\n",
    "print(trans_image1.shape)\n"
   ]
  },
  {
   "cell_type": "code",
   "execution_count": null,
   "metadata": {
    "collapsed": false
   },
   "outputs": [],
   "source": [
    "imgplot = plt.imshow(trans_image1)\n",
    "plt.show()\n",
    "print(steer4)"
   ]
  },
  {
   "cell_type": "code",
   "execution_count": null,
   "metadata": {
    "collapsed": false
   },
   "outputs": [],
   "source": [
    "imgplot = plt.imshow(trans_image3)\n",
    "plt.show()\n"
   ]
  },
  {
   "cell_type": "code",
   "execution_count": null,
   "metadata": {
    "collapsed": false
   },
   "outputs": [],
   "source": [
    "imgplot = plt.imshow(trans_image2)\n",
    "plt.show()\n"
   ]
  },
  {
   "cell_type": "code",
   "execution_count": null,
   "metadata": {
    "collapsed": false,
    "scrolled": true
   },
   "outputs": [],
   "source": [
    "imgplot = plt.imshow(trans_image4)\n",
    "plt.show()\n"
   ]
  },
  {
   "cell_type": "code",
   "execution_count": null,
   "metadata": {
    "collapsed": true
   },
   "outputs": [],
   "source": [
    "trans_image1 = reshape_image(trans_image1)\n",
    "trans_image2 = reshape_image(trans_image2)"
   ]
  },
  {
   "cell_type": "code",
   "execution_count": null,
   "metadata": {
    "collapsed": false
   },
   "outputs": [],
   "source": [
    "imgplot = plt.imshow(trans_image1)\n",
    "plt.show()"
   ]
  },
  {
   "cell_type": "code",
   "execution_count": null,
   "metadata": {
    "collapsed": false
   },
   "outputs": [],
   "source": [
    "imgplot = plt.imshow(trans_image2)\n",
    "plt.show()"
   ]
  },
  {
   "cell_type": "code",
   "execution_count": null,
   "metadata": {
    "collapsed": true
   },
   "outputs": [],
   "source": [
    "trans_image3 = reshape_image(trans_image3)\n",
    "trans_image4 = reshape_image(trans_image4)"
   ]
  },
  {
   "cell_type": "code",
   "execution_count": null,
   "metadata": {
    "collapsed": false
   },
   "outputs": [],
   "source": [
    "imgplot = plt.imshow(trans_image3)\n",
    "plt.show()"
   ]
  },
  {
   "cell_type": "code",
   "execution_count": null,
   "metadata": {
    "collapsed": false
   },
   "outputs": [],
   "source": [
    "imgplot = plt.imshow(trans_image4)\n",
    "plt.show()"
   ]
  },
  {
   "cell_type": "code",
   "execution_count": null,
   "metadata": {
    "collapsed": true
   },
   "outputs": [],
   "source": [
    "def add_random_shadow(image):\n",
    "    top_y = 320*np.random.uniform()\n",
    "    top_x = 0\n",
    "    bot_x = 160\n",
    "    bot_y = 320*np.random.uniform()\n",
    "    image_hls = cv2.cvtColor(image,cv2.COLOR_RGB2HLS)\n",
    "    shadow_mask = 0*image_hls[:,:,1]\n",
    "    X_m = np.mgrid[0:image.shape[0],0:image.shape[1]][0]\n",
    "    Y_m = np.mgrid[0:image.shape[0],0:image.shape[1]][1]\n",
    "    shadow_mask[((X_m-top_x)*(bot_y-top_y) -(bot_x - top_x)*(Y_m-top_y) >=0)]=1\n",
    "    #random_bright = .25+.7*np.random.uniform()\n",
    "    if np.random.randint(2)==1:\n",
    "        random_bright = .5\n",
    "        cond1 = shadow_mask==1\n",
    "        cond0 = shadow_mask==0\n",
    "        if np.random.randint(2)==1:\n",
    "            image_hls[:,:,1][cond1] = image_hls[:,:,1][cond1]*random_bright\n",
    "        else:\n",
    "            image_hls[:,:,1][cond0] = image_hls[:,:,1][cond0]*random_bright    \n",
    "    image = cv2.cvtColor(image_hls,cv2.COLOR_HLS2RGB)\n",
    "    return image"
   ]
  },
  {
   "cell_type": "code",
   "execution_count": null,
   "metadata": {
    "collapsed": false
   },
   "outputs": [],
   "source": [
    "shadow_image = add_random_shadow(image)\n",
    "imgplot = plt.imshow(shadow_image)\n",
    "plt.show()"
   ]
  },
  {
   "cell_type": "code",
   "execution_count": null,
   "metadata": {
    "collapsed": false
   },
   "outputs": [],
   "source": [
    "new_size_col,new_size_row = 64, 64\n",
    "shape = image.shape\n",
    "# note: numpy arrays are (row, col)!\n",
    "image = image[math.floor(shape[0]/4):shape[0]-25, 0:shape[1]]\n",
    "#image = cv2.resize(image,(new_size_col,new_size_row),         interpolation=cv2.INTER_AREA)\n",
    "imgplot = plt.imshow(image)\n",
    "plt.show()"
   ]
  },
  {
   "cell_type": "code",
   "execution_count": null,
   "metadata": {
    "collapsed": false
   },
   "outputs": [],
   "source": [
    "new_size_col,new_size_row = 64, 64\n",
    "shape = image.shape\n",
    "# note: numpy arrays are (row, col)!\n",
    "rev = image[math.floor(shape[0]/4)+30:shape[0]-25, 0:shape[1]]\n",
    "#image = cv2.resize(image,(new_size_col,new_size_row),         interpolation=cv2.INTER_AREA)\n",
    "imgplot = plt.imshow(rev)\n",
    "plt.show()\n",
    "print(image.shape)"
   ]
  },
  {
   "cell_type": "code",
   "execution_count": null,
   "metadata": {
    "collapsed": false
   },
   "outputs": [],
   "source": [
    "new_size_col,new_size_row = 80, 40\n",
    "rev1 = cv2.resize(rev,(new_size_col,new_size_row),         interpolation=cv2.INTER_AREA)\n",
    "imgplot = plt.imshow(rev1)\n",
    "plt.show()"
   ]
  },
  {
   "cell_type": "code",
   "execution_count": null,
   "metadata": {
    "collapsed": false
   },
   "outputs": [],
   "source": [
    "print(rev1.shape)"
   ]
  },
  {
   "cell_type": "markdown",
   "metadata": {},
   "source": [
    "-----------------------------------------------------\n",
    "##hua li de fen ge xian\n",
    "-----------------------------------------------------"
   ]
  },
  {
   "cell_type": "code",
   "execution_count": 8,
   "metadata": {
    "collapsed": false
   },
   "outputs": [
    {
     "name": "stderr",
     "output_type": "stream",
     "text": [
      "Using TensorFlow backend.\n"
     ]
    },
    {
     "name": "stdout",
     "output_type": "stream",
     "text": [
      "____________________________________________________________________________________________________\n",
      "Layer (type)                     Output Shape          Param #     Connected to                     \n",
      "====================================================================================================\n",
      "lambda_1 (Lambda)                (None, 80, 160, 3)    0           lambda_input_1[0][0]             \n",
      "____________________________________________________________________________________________________\n",
      "convolution2d_1 (Convolution2D)  (None, 38, 78, 24)    1824        lambda_1[0][0]                   \n",
      "____________________________________________________________________________________________________\n",
      "elu_1 (ELU)                      (None, 38, 78, 24)    0           convolution2d_1[0][0]            \n",
      "____________________________________________________________________________________________________\n",
      "convolution2d_2 (Convolution2D)  (None, 17, 37, 36)    21636       elu_1[0][0]                      \n",
      "____________________________________________________________________________________________________\n",
      "elu_2 (ELU)                      (None, 17, 37, 36)    0           convolution2d_2[0][0]            \n",
      "____________________________________________________________________________________________________\n",
      "convolution2d_3 (Convolution2D)  (None, 7, 17, 48)     43248       elu_2[0][0]                      \n",
      "____________________________________________________________________________________________________\n",
      "elu_3 (ELU)                      (None, 7, 17, 48)     0           convolution2d_3[0][0]            \n",
      "____________________________________________________________________________________________________\n",
      "convolution2d_4 (Convolution2D)  (None, 5, 15, 64)     27712       elu_3[0][0]                      \n",
      "____________________________________________________________________________________________________\n",
      "elu_4 (ELU)                      (None, 5, 15, 64)     0           convolution2d_4[0][0]            \n",
      "____________________________________________________________________________________________________\n",
      "convolution2d_5 (Convolution2D)  (None, 3, 13, 64)     36928       elu_4[0][0]                      \n",
      "____________________________________________________________________________________________________\n",
      "elu_5 (ELU)                      (None, 3, 13, 64)     0           convolution2d_5[0][0]            \n",
      "____________________________________________________________________________________________________\n",
      "flatten_1 (Flatten)              (None, 2496)          0           elu_5[0][0]                      \n",
      "____________________________________________________________________________________________________\n",
      "dense_1 (Dense)                  (None, 1164)          2906508     flatten_1[0][0]                  \n",
      "____________________________________________________________________________________________________\n",
      "elu_6 (ELU)                      (None, 1164)          0           dense_1[0][0]                    \n",
      "____________________________________________________________________________________________________\n",
      "dense_2 (Dense)                  (None, 100)           116500      elu_6[0][0]                      \n",
      "____________________________________________________________________________________________________\n",
      "elu_7 (ELU)                      (None, 100)           0           dense_2[0][0]                    \n",
      "____________________________________________________________________________________________________\n",
      "dense_3 (Dense)                  (None, 50)            5050        elu_7[0][0]                      \n",
      "____________________________________________________________________________________________________\n",
      "elu_8 (ELU)                      (None, 50)            0           dense_3[0][0]                    \n",
      "____________________________________________________________________________________________________\n",
      "dropout_1 (Dropout)              (None, 50)            0           elu_8[0][0]                      \n",
      "____________________________________________________________________________________________________\n",
      "dense_4 (Dense)                  (None, 10)            510         dropout_1[0][0]                  \n",
      "____________________________________________________________________________________________________\n",
      "elu_9 (ELU)                      (None, 10)            0           dense_4[0][0]                    \n",
      "____________________________________________________________________________________________________\n",
      "dense_5 (Dense)                  (None, 1)             11          elu_9[0][0]                      \n",
      "====================================================================================================\n",
      "Total params: 3,159,927\n",
      "Trainable params: 3,159,927\n",
      "Non-trainable params: 0\n",
      "____________________________________________________________________________________________________\n"
     ]
    }
   ],
   "source": [
    "\n",
    "import numpy as np\n",
    "#from sklearn.model_selection import train_test_split\n",
    "import math\n",
    "from keras.models import Sequential\n",
    "from keras.layers import Dense, Input, Activation\n",
    "from keras.layers import Conv2D, Flatten, MaxPooling2D, Dropout\n",
    "from keras.layers import Lambda, ELU\n",
    "import cv2\n",
    "\n",
    "#model definition\n",
    "\n",
    "\n",
    "# input image dimensions\n",
    "img_rows, img_cols = 80, 160\n",
    "\n",
    "# number of convolutional filters to use\n",
    "nb_filters = 24\n",
    "\n",
    "# convolution kernel size\n",
    "nb_conv = 5\n",
    "\n",
    "input_shape=(img_rows,img_cols, 3)\n",
    "\n",
    "model = Sequential()\n",
    "model.add(Lambda(lambda x: x/255. - 0.5, input_shape = input_shape ))\n",
    "model.add(Conv2D(nb_filters, nb_conv, nb_conv, border_mode='valid', subsample=(2, 2), init='he_normal'))\n",
    "model.add(ELU())\n",
    "model.add(Conv2D(36,5,5, border_mode='valid', init='he_normal', subsample=(2, 2)))\n",
    "model.add(ELU())\n",
    "model.add(Conv2D(48,5,5, border_mode='valid', init='he_normal', subsample=(2, 2)))\n",
    "model.add(ELU())\n",
    "model.add(Conv2D(64,3,3, border_mode='valid', init='he_normal'))\n",
    "model.add(ELU())\n",
    "model.add(Conv2D(64,3,3, border_mode='valid', init='he_normal'))\n",
    "model.add(ELU())\n",
    "model.add(Flatten())\n",
    "model.add(Dense(1164, init='he_normal'))\n",
    "model.add(ELU())\n",
    "#model.add(Dropout(0.2))\n",
    "model.add(Dense(100, init='he_normal'))\n",
    "model.add(ELU())\n",
    "#model.add(Dropout(0.2))\n",
    "model.add(Dense(50, init='he_normal'))\n",
    "model.add(ELU())\n",
    "model.add(Dropout(0.5))\n",
    "model.add(Dense(10, init='he_normal'))\n",
    "model.add(ELU())\n",
    "#model.add(Dropout(0.5))\n",
    "model.add(Dense(1, init='he_normal'))\n",
    "model.summary()"
   ]
  },
  {
   "cell_type": "code",
   "execution_count": 9,
   "metadata": {
    "collapsed": false
   },
   "outputs": [],
   "source": [
    "def augment_brightness_camera_images(image):\n",
    "    image1 = cv2.cvtColor(image,cv2.COLOR_RGB2HSV)\n",
    "    random_bright = .25+np.random.uniform()\n",
    "    #print(random_bright)\n",
    "    image1[:,:,2] = image1[:,:,2]*random_bright\n",
    "    image1 = cv2.cvtColor(image1,cv2.COLOR_HSV2RGB)\n",
    "    return image1\n",
    "\n",
    "#crop above road image, remove car hood:bottom 25 pixels\n",
    "new_size_col,new_size_row = 160, 80\n",
    "def preprocessImage(image):\n",
    "    shape = image.shape\n",
    "    image = image[math.floor(shape[0]/4)+30:shape[0]-25, 0:shape[1]]\n",
    "    image = cv2.resize(image,(new_size_col,new_size_row), interpolation=cv2.INTER_AREA)\n",
    "    return image\n",
    "\n",
    "def preprocess_image_file_train(line_data):\n",
    "    select = np.random.randint(3)\n",
    "    if (select == 0):\n",
    "        img_file = line_data['left'][0].strip()\n",
    "        steer_corr = .25\n",
    "    if (select == 1):\n",
    "        img_file = line_data['center'][0].strip()\n",
    "        steer_corr = 0.\n",
    "    if (select == 2):\n",
    "        img_file = line_data['right'][0].strip()\n",
    "        steer_corr = -.25\n",
    "    y_steer = line_data['steer'][0] + steer_corr\n",
    "    image = cv2.imread(img_file)\n",
    "    image = cv2.cvtColor(image,cv2.COLOR_BGR2RGB)\n",
    "    image = augment_brightness_camera_images(image)\n",
    "    image = add_random_shadow(image)\n",
    "    image = trans_image(image)\n",
    "    image = preprocessImage(image)\n",
    "    image = np.array(image)\n",
    "    flip = np.random.randint(2)\n",
    "    if flip==0:\n",
    "        image = cv2.flip(image,1)\n",
    "        y_steer = -y_steer\n",
    "\n",
    "    return image,y_steer\n",
    "\n",
    "# def preprocess_image_file_train(line_data):\n",
    "#     path_file = line_data['center'][0].strip()\n",
    "#     y_steer = line_data['steer'][0]\n",
    "#     image = cv2.imread(path_file)\n",
    "#     image = cv2.cvtColor(image,cv2.COLOR_BGR2RGB)\n",
    "#     image = augment_brightness_camera_images(image)\n",
    "#     image = preprocessImage(image)\n",
    "#     image = np.array(image)\n",
    "#     flip = np.random.randint(2)\n",
    "#     if flip==0:\n",
    "#         image = cv2.flip(image,1)\n",
    "#         y_steer = -y_steer\n",
    "\n",
    "#     return image,y_steer\n",
    "\n",
    "def trans_image(image):\n",
    "    # Translation\n",
    "    rows, cols = image.shape[:2]\n",
    "    #tr_x = trans_range*np.random.uniform()-trans_range/2\n",
    "    tr_x = 0\n",
    "    tr_y = 40*np.random.uniform()-40/2\n",
    "    #tr_y = 0\n",
    "    Trans_M = np.float32([[1,0,tr_x],[0,1,tr_y]])\n",
    "    image_tr = cv2.warpAffine(image,Trans_M,(cols,rows))\n",
    "    \n",
    "    return image_tr\n",
    "\n",
    "def add_random_shadow(image):\n",
    "    top_y = 320*np.random.uniform()\n",
    "    top_x = 0\n",
    "    bot_x = 160\n",
    "    bot_y = 320*np.random.uniform()\n",
    "    image_hls = cv2.cvtColor(image,cv2.COLOR_RGB2HLS)\n",
    "    shadow_mask = 0*image_hls[:,:,1]\n",
    "    X_m = np.mgrid[0:image.shape[0],0:image.shape[1]][0]\n",
    "    Y_m = np.mgrid[0:image.shape[0],0:image.shape[1]][1]\n",
    "    shadow_mask[((X_m-top_x)*(bot_y-top_y) -(bot_x - top_x)*(Y_m-top_y) >=0)]=1\n",
    "    #random_bright = .25+.7*np.random.uniform()\n",
    "    if np.random.randint(2)==1:\n",
    "        random_bright = .5\n",
    "        cond1 = shadow_mask==1\n",
    "        cond0 = shadow_mask==0\n",
    "        if np.random.randint(2)==1:\n",
    "            image_hls[:,:,1][cond1] = image_hls[:,:,1][cond1]*random_bright\n",
    "        else:\n",
    "            image_hls[:,:,1][cond0] = image_hls[:,:,1][cond0]*random_bright    \n",
    "    image = cv2.cvtColor(image_hls,cv2.COLOR_HLS2RGB)\n",
    "    return image\n",
    "\n",
    "def myGenerator(data,batch_size):\n",
    "    batch_images = np.zeros((batch_size, new_size_row, new_size_col, 3))\n",
    "    batch_steering = np.zeros(batch_size)\n",
    "    while 1:\n",
    "        for i_batch in range(batch_size):\n",
    "            i_line = np.random.randint(len(data))\n",
    "            line_s = data.iloc[[i_line]].reset_index()\n",
    "            #x,y = preprocess_image_file_train(line_s)\n",
    "\n",
    "            keep_pr = 0\n",
    "            while keep_pr == 0:\n",
    "                x,y = preprocess_image_file_train(line_s)\n",
    "                if abs(y)<.1:\n",
    "                    pr_val = np.random.uniform()\n",
    "                    if pr_val>pr_threshold:\n",
    "                        keep_pr = 1\n",
    "                else:\n",
    "                    keep_pr = 1\n",
    "            x = x.astype('float32')\n",
    "            batch_images[i_batch] = x\n",
    "            batch_steering[i_batch] = y\n",
    "        yield batch_images, batch_steering\n",
    "\n",
    "def valGenerator(data,batch_size):\n",
    "    batch_images = np.zeros((batch_size, new_size_row, new_size_col, 3))\n",
    "    batch_steering = np.zeros(batch_size)\n",
    "    while 1:\n",
    "        for i_batch in range(batch_size):\n",
    "            i_line = np.random.randint(len(data))\n",
    "            line_s = data.iloc[[i_line]].reset_index()\n",
    "            x,y = preprocess_image_file_train(line_s)\n",
    "            x = x.astype('float32')\n",
    "            batch_images[i_batch] = x\n",
    "            batch_steering[i_batch] = y\n",
    "        yield batch_images, batch_steering\n"
   ]
  },
  {
   "cell_type": "code",
   "execution_count": null,
   "metadata": {
    "collapsed": false
   },
   "outputs": [
    {
     "name": "stdout",
     "output_type": "stream",
     "text": [
      "0\n",
      "1\n",
      "Epoch 1/9\n",
      " 3072/22000 [===>..........................] - ETA: 350s - loss: 1.6714"
     ]
    }
   ],
   "source": [
    "import pandas as pd\n",
    "# val_size = 1\n",
    "pr_threshold = 1\n",
    "\n",
    "batch_size = 256\n",
    "\n",
    "\n",
    "model.compile(loss='mse',optimizer='adam')\n",
    "\n",
    "data_files_s = pd.read_csv('driving_log.csv', delimiter=',', dtype=None, usecols = (0,1,2,3))\n",
    "msk = np.random.rand(len(data_files_s)) < 0.9\n",
    "train = data_files_s[msk]\n",
    "validation = data_files_s[~msk]\n",
    "\n",
    "for i_pr in range(10):\n",
    "    print(i_pr)\n",
    "    print(pr_threshold)\n",
    "    train_generator = myGenerator(train, batch_size)\n",
    "    validation_generator = valGenerator(validation, batch_size)\n",
    "    model.fit_generator(train_generator, samples_per_epoch=22000, nb_epoch=9,\n",
    "                        validation_data=validation_generator, nb_val_samples=2200, verbose=1)\n",
    "    pr_threshold = 1/(i_pr+0.5)*1\n"
   ]
  },
  {
   "cell_type": "code",
   "execution_count": 4,
   "metadata": {
    "collapsed": false
   },
   "outputs": [
    {
     "name": "stdout",
     "output_type": "stream",
     "text": [
      "<class 'pandas.core.frame.DataFrame'>\n"
     ]
    }
   ],
   "source": [
    "import pandas as pd\n",
    "data_files_s = pd.read_csv('data/driving_log.csv', delimiter=',', dtype=None, usecols = (0,1,2,3))\n",
    "print(type(data_files_s))"
   ]
  },
  {
   "cell_type": "code",
   "execution_count": 6,
   "metadata": {
    "collapsed": false
   },
   "outputs": [
    {
     "name": "stdout",
     "output_type": "stream",
     "text": [
      "7202\n",
      "834\n"
     ]
    }
   ],
   "source": [
    "import numpy as np\n",
    "\n",
    "msk = np.random.rand(len(data_files_s)) < 0.9\n",
    "train = data_files_s[msk]\n",
    "validation = data_files_s[~msk]\n",
    "print(len(train))\n",
    "print(len(validation))"
   ]
  },
  {
   "cell_type": "code",
   "execution_count": 7,
   "metadata": {
    "collapsed": true
   },
   "outputs": [],
   "source": [
    "# save weights\n",
    "model.save_weights('model.h5')\n",
    "\n",
    "# serialize model to JSON\n",
    "model_json = model.to_json()\n",
    "with open(\"model.json\", \"w\") as json_file:\n",
    "    json_file.write(model_json)\n"
   ]
  },
  {
   "cell_type": "code",
   "execution_count": null,
   "metadata": {
    "collapsed": true
   },
   "outputs": [],
   "source": []
  }
 ],
 "metadata": {
  "kernelspec": {
   "display_name": "Python 3",
   "language": "python",
   "name": "python3"
  },
  "language_info": {
   "codemirror_mode": {
    "name": "ipython",
    "version": 3
   },
   "file_extension": ".py",
   "mimetype": "text/x-python",
   "name": "python",
   "nbconvert_exporter": "python",
   "pygments_lexer": "ipython3",
   "version": "3.5.2"
  },
  "widgets": {
   "state": {},
   "version": "1.1.2"
  }
 },
 "nbformat": 4,
 "nbformat_minor": 2
}
